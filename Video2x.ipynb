{
  "nbformat": 4,
  "nbformat_minor": 0,
  "metadata": {
    "colab": {
      "private_outputs": true,
      "provenance": [],
      "include_colab_link": true
    },
    "kernelspec": {
      "name": "python3",
      "display_name": "Python 3"
    },
    "accelerator": "GPU"
  },
  "cells": [
    {
      "cell_type": "markdown",
      "metadata": {
        "id": "view-in-github",
        "colab_type": "text"
      },
      "source": [
        "<a href=\"https://colab.research.google.com/github/TimyIsCool/upscaling/blob/main/Video2x.ipynb\" target=\"_parent\"><img src=\"https://colab.research.google.com/assets/colab-badge.svg\" alt=\"Open In Colab\"/></a>"
      ]
    },
    {
      "cell_type": "code",
      "metadata": {
        "id": "8i87gJKgym7i"
      },
      "source": [
        "#This mounts the google drive to your workspace\n",
        "from google.colab import drive\n",
        "drive.mount('/content/drive/')"
      ],
      "execution_count": null,
      "outputs": []
    },
    {
      "cell_type": "code",
      "source": [
        "!apt install ffmpeg\n",
        "!apt install libmagic1 python3-yaml\n",
        "!apt install libvulkan-dev\n",
        "!pip install --user youtube-dl\n",
        "!wget https://github.com/k4yt3x/video2x/archive/refs/tags/4.7.0.tar.gz\n",
        "!ls"
      ],
      "metadata": {
        "id": "EmsFGcmKhiQg"
      },
      "execution_count": null,
      "outputs": []
    },
    {
      "cell_type": "code",
      "source": [
        "!tar -xvf 4.7.0.tar.gz\n",
        "!ls"
      ],
      "metadata": {
        "id": "j_AddOssh3aV"
      },
      "execution_count": null,
      "outputs": []
    },
    {
      "cell_type": "code",
      "source": [
        "%cd video2x-4.7.0/src"
      ],
      "metadata": {
        "id": "MCk0aYiGiEJt"
      },
      "execution_count": null,
      "outputs": []
    },
    {
      "cell_type": "code",
      "source": [
        "!pip install -r /content/video2x-4.7.0/src/requirements.txt\n",
        "!rm -rf /content/video2x-4.7.0/src/video2x.yaml\n",
        "!wget -O /content/video2x-4.7.0/src/video2x.yaml https://raw.githubusercontent.com/lenardcarroll/video2x.yaml/main/video2x.yaml"
      ],
      "metadata": {
        "id": "G_KvEBnuiVob"
      },
      "execution_count": null,
      "outputs": []
    },
    {
      "cell_type": "code",
      "source": [
        "%cd ../.."
      ],
      "metadata": {
        "id": "-Torzy_-igdm"
      },
      "execution_count": null,
      "outputs": []
    },
    {
      "cell_type": "code",
      "source": [
        "!wget https://github.com/nihui/realsr-ncnn-vulkan/releases/download/20200818/realsr-ncnn-vulkan-20200818-linux.zip\n",
        "!unzip realsr-ncnn-vulkan-20200818-linux.zip\n",
        "!wget https://github.com/nihui/srmd-ncnn-vulkan/releases/download/20200818/srmd-ncnn-vulkan-20200818-linux.zip\n",
        "!unzip srmd-ncnn-vulkan-20200818-linux\n",
        "!wget https://github.com/nihui/waifu2x-ncnn-vulkan/releases/download/20200818/waifu2x-ncnn-vulkan-20200818-linux.zip\n",
        "!unzip waifu2x-ncnn-vulkan-20200818-linux.zip\n",
        "!rm *-linux.zip\n",
        "!pip install -U PyYAML"
      ],
      "metadata": {
        "id": "QMB6jVwDiib1"
      },
      "execution_count": null,
      "outputs": []
    },
    {
      "cell_type": "code",
      "metadata": {
        "id": "kEhWPMisvg55"
      },
      "source": [
        "#create directory where the images/videos are housed\n",
        "!mkdir drive/'MyDrive'/videoupscaling\n",
        "!mkdir drive/'MyDrive'/videoupscaling/Output"
      ],
      "execution_count": null,
      "outputs": []
    },
    {
      "cell_type": "code",
      "source": [
        "!python video2x-4.7.0/src/video2x.py --help"
      ],
      "metadata": {
        "id": "5QHtel9fjLXd"
      },
      "execution_count": null,
      "outputs": []
    },
    {
      "cell_type": "code",
      "metadata": {
        "id": "96Vf2Yv1sRrv"
      },
      "source": [
        "#Upscaling happens here!\n",
        "!python video2x-4.7.0/src/video2x.py -i /content/drive/'MyDrive'/videoupscaling/Bob_270.mp4 -o /content/drive/'MyDrive'/videoupscaling/Output/Bob_1080.mp4 -d srmd_ncnn_vulkan -r 4.0"
      ],
      "execution_count": null,
      "outputs": []
    }
  ]
}